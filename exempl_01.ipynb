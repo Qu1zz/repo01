{
  "nbformat": 4,
  "nbformat_minor": 0,
  "metadata": {
    "colab": {
      "name": "exempl_01.ipynb",
      "provenance": [],
      "authorship_tag": "ABX9TyNbAxjUr8JB0XfzKXJad6eZ",
      "include_colab_link": true
    },
    "kernelspec": {
      "name": "python3",
      "display_name": "Python 3"
    }
  },
  "cells": [
    {
      "cell_type": "markdown",
      "metadata": {
        "id": "view-in-github",
        "colab_type": "text"
      },
      "source": [
        "<a href=\"https://colab.research.google.com/github/Qu1zz/repo01/blob/master/exempl_01.ipynb\" target=\"_parent\"><img src=\"https://colab.research.google.com/assets/colab-badge.svg\" alt=\"Open In Colab\"/></a>"
      ]
    },
    {
      "cell_type": "code",
      "metadata": {
        "id": "6e8Dp77dx_DS",
        "colab_type": "code",
        "colab": {
          "base_uri": "https://localhost:8080/",
          "height": 68
        },
        "outputId": "de760dd1-31e9-495c-bb9e-86fd20bc653e"
      },
      "source": [
        "### Isto é um comando de saída\n",
        "print('Olá Mundinho Cruel!!!')\n",
        "print('Cruel Little World!!!')\n",
        "print(\"'Antedeguemon'\")\n",
        "\n",
        "# A hashtag é um comentário no código, ou seja, o programa não irá processar nenhuma linha que estiver marcada.\n",
        "# O comando print() mostra na tela, ou seja, é uma saída de valor(es). \n",
        "# O conteúdo do texto deve estar entre aspas(simples ou duplas)\n",
        "\n",
        "\n"
      ],
      "execution_count": 5,
      "outputs": [
        {
          "output_type": "stream",
          "text": [
            "Olá Mundinho Cruel!!!\n",
            "Cruel Little World!!!\n",
            "'Antedeguemon'\n"
          ],
          "name": "stdout"
        }
      ]
    },
    {
      "cell_type": "markdown",
      "metadata": {
        "id": "T2JH4sJW41kZ",
        "colab_type": "text"
      },
      "source": [
        "Está é uma célula somente de texto. Aqui posso fazer formatações usando as ferramentas que estão na barra. Por exemplo, **isto está em negrito**. *Isto é itálico.*"
      ]
    },
    {
      "cell_type": "markdown",
      "metadata": {
        "id": "BOx9nGlA5L3-",
        "colab_type": "text"
      },
      "source": [
        "Abaixo, vamos ver como mesclar ma saída de tela."
      ]
    },
    {
      "cell_type": "code",
      "metadata": {
        "id": "QIIFDJ0v5RKo",
        "colab_type": "code",
        "colab": {
          "base_uri": "https://localhost:8080/",
          "height": 34
        },
        "outputId": "0eb0ec3f-ac02-415f-f471-564d80d1bfe4"
      },
      "source": [
        "print(\"Arthur\",\"Katae\",\"Figueiredo\")"
      ],
      "execution_count": 6,
      "outputs": [
        {
          "output_type": "stream",
          "text": [
            "Arthur Katae Figueiredo\n"
          ],
          "name": "stdout"
        }
      ]
    }
  ]
}